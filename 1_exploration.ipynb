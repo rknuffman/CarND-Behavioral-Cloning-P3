{
 "cells": [
  {
   "cell_type": "code",
   "execution_count": 37,
   "metadata": {},
   "outputs": [],
   "source": [
    "import csv\n",
    "import cv2\n",
    "import numpy as np\n",
    "import os\n",
    "from sklearn.model_selection import train_test_split\n",
    "import sklearn"
   ]
  },
  {
   "cell_type": "code",
   "execution_count": 38,
   "metadata": {},
   "outputs": [],
   "source": [
    "base_path = '/hdd/datasets/udacity_sim_data/recorded_data/train/'\n",
    "# base_path = '/hdd/datasets/udacity_sim_data/data/'"
   ]
  },
  {
   "cell_type": "code",
   "execution_count": 39,
   "metadata": {},
   "outputs": [],
   "source": [
    "lines = []\n",
    "with open(base_path + 'driving_log.csv') as csvfile:\n",
    "    reader = csv.reader(csvfile)\n",
    "    for line in reader:\n",
    "        lines.append(line)\n"
   ]
  },
  {
   "cell_type": "code",
   "execution_count": 40,
   "metadata": {},
   "outputs": [],
   "source": [
    "def process_image(path):\n",
    "    filename = path.split('/')[-1]\n",
    "    current_path = base_path + 'IMG/' + filename\n",
    "    return cv2.imread(current_path)\n",
    "    \n",
    "def flip(image, measurement):\n",
    "    return np.fliplr(image), -measurement\n",
    "\n",
    "images = []\n",
    "measurements = []\n",
    "for line in lines[1:]:\n",
    "    center_image = process_image(line[0])\n",
    "    left_image = process_image(line[1])\n",
    "    right_image = process_image(line[2])\n",
    "\n",
    "    correction = 0.2\n",
    "    center_measurement = float(line[3])\n",
    "    left_measurement = center_measurement + correction\n",
    "    right_measurement = center_measurement - correction\n",
    "    \n",
    "    # center\n",
    "    images.append(center_image)\n",
    "    measurements.append(center_measurement)\n",
    "    iflip, mflip = flip(center_image, center_measurement)\n",
    "    images.append(iflip)\n",
    "    measurements.append(mflip)    \n",
    "    \n",
    "    # left\n",
    "    images.append(left_image)\n",
    "    measurements.append(left_measurement)\n",
    "    iflip, mflip = flip(left_image, left_measurement)\n",
    "    images.append(iflip)\n",
    "    measurements.append(mflip)    \n",
    "    \n",
    "    # right\n",
    "    images.append(right_image)\n",
    "    measurements.append(right_measurement)\n",
    "    iflip, mflip = flip(right_image, right_measurement)\n",
    "    images.append(iflip)\n",
    "    measurements.append(mflip)    "
   ]
  },
  {
   "cell_type": "code",
   "execution_count": 41,
   "metadata": {},
   "outputs": [
    {
     "data": {
      "text/plain": [
       "20760"
      ]
     },
     "execution_count": 41,
     "metadata": {},
     "output_type": "execute_result"
    }
   ],
   "source": [
    "len(images)"
   ]
  },
  {
   "cell_type": "code",
   "execution_count": 42,
   "metadata": {},
   "outputs": [],
   "source": [
    "X_train = np.array(images)\n",
    "y_train = np.array(measurements)"
   ]
  },
  {
   "cell_type": "code",
   "execution_count": 43,
   "metadata": {},
   "outputs": [],
   "source": [
    "from keras.models import Sequential\n",
    "from keras.layers import Dense, Flatten, Lambda, Convolution2D, MaxPooling2D, Cropping2D"
   ]
  },
  {
   "cell_type": "code",
   "execution_count": 51,
   "metadata": {},
   "outputs": [],
   "source": [
    "input_shape=(160,320,3)\n",
    "\n",
    "model = Sequential()\n",
    "model.add(Cropping2D(cropping=((70,25), (0,0)), input_shape=input_shape))\n",
    "model.add(Lambda(lambda x: (x / 255.0) - 0.5))\n",
    "model.add(Convolution2D(24, 5, 5, subsample=(2,2), activation='relu'))\n",
    "model.add(Convolution2D(36, 5, 5, subsample=(2,2), activation='relu'))\n",
    "model.add(Convolution2D(48, 5, 5, subsample=(2,2), activation='relu'))\n",
    "model.add(Convolution2D(64, 3, 3, activation='relu'))\n",
    "model.add(Convolution2D(64, 3, 3, activation='relu'))\n",
    "model.add(Flatten())\n",
    "model.add(Dense(100))\n",
    "model.add(Dense(50))\n",
    "model.add(Dense(10))\n",
    "model.add(Dense(1))"
   ]
  },
  {
   "cell_type": "code",
   "execution_count": 52,
   "metadata": {},
   "outputs": [],
   "source": [
    "# model = Sequential()\n",
    "# model.add(Lambda(lambda x: (x / 255.0) - 0.5, input_shape=(160,320,3)))\n",
    "# model.add(Flatten())\n",
    "# model.add(Dense(1))"
   ]
  },
  {
   "cell_type": "code",
   "execution_count": 53,
   "metadata": {},
   "outputs": [],
   "source": [
    "model.compile(loss='mse', optimizer='adam')"
   ]
  },
  {
   "cell_type": "code",
   "execution_count": 54,
   "metadata": {},
   "outputs": [
    {
     "name": "stdout",
     "output_type": "stream",
     "text": [
      "Train on 16608 samples, validate on 4152 samples\n",
      "Epoch 1/1\n",
      "16608/16608 [==============================] - 21s - loss: 0.0108 - val_loss: 0.0110\n"
     ]
    }
   ],
   "source": [
    "model.fit(X_train, y_train, validation_split=0.2, shuffle=True, nb_epoch=1)\n",
    "model.save('model.h5')"
   ]
  },
  {
   "cell_type": "code",
   "execution_count": null,
   "metadata": {},
   "outputs": [],
   "source": []
  },
  {
   "cell_type": "code",
   "execution_count": null,
   "metadata": {},
   "outputs": [],
   "source": []
  },
  {
   "cell_type": "code",
   "execution_count": null,
   "metadata": {},
   "outputs": [],
   "source": []
  },
  {
   "cell_type": "code",
   "execution_count": null,
   "metadata": {},
   "outputs": [],
   "source": []
  },
  {
   "cell_type": "code",
   "execution_count": null,
   "metadata": {},
   "outputs": [],
   "source": []
  },
  {
   "cell_type": "code",
   "execution_count": 103,
   "metadata": {},
   "outputs": [],
   "source": [
    "base_path = '/hdd/datasets/udacity_sim_data/recorded_data/'\n",
    "# base_path = '/hdd/datasets/udacity_sim_data/recorded_data/train/'\n",
    "# base_path = '/hdd/datasets/udacity_sim_data/data/'"
   ]
  },
  {
   "cell_type": "code",
   "execution_count": 104,
   "metadata": {},
   "outputs": [],
   "source": [
    "import os\n",
    "import csv\n",
    "\n",
    "samples = []\n",
    "with open(base_path + 'train/driving_log.csv') as csvfile:\n",
    "    reader = csv.reader(csvfile)\n",
    "    for line in reader:\n",
    "        samples.append(line)\n",
    "with open(base_path + 'recovery/driving_log.csv') as csvfile:\n",
    "    reader = csv.reader(csvfile)\n",
    "    for line in reader:\n",
    "        samples.append(line)"
   ]
  },
  {
   "cell_type": "code",
   "execution_count": 117,
   "metadata": {},
   "outputs": [],
   "source": [
    "from sklearn.model_selection import train_test_split\n",
    "train_samples, validation_samples = train_test_split(samples, test_size=0.2)\n",
    "\n",
    "import cv2\n",
    "import numpy as np\n",
    "import sklearn"
   ]
  },
  {
   "cell_type": "code",
   "execution_count": 118,
   "metadata": {},
   "outputs": [],
   "source": [
    "correction = 0.3\n",
    "\n",
    "def generator(samples, batch_size=32):\n",
    "    num_samples = len(samples)\n",
    "    while 1: # Loop forever so the generator never terminates\n",
    "        sklearn.utils.shuffle(samples)\n",
    "        for offset in range(0, num_samples, batch_size):\n",
    "            batch_samples = samples[offset:offset+batch_size]\n",
    "\n",
    "            images = []\n",
    "            angles = []\n",
    "            for batch_sample in batch_samples:\n",
    "#                 name = base_path + '/IMG/'+batch_sample[0].split('/')[-1]\n",
    "                name = batch_sample[0]\n",
    "                center_image = cv2.imread(name)\n",
    "                center_angle = float(batch_sample[3])\n",
    "                images.append(center_image)\n",
    "                angles.append(center_angle)\n",
    "                images.append(np.fliplr(center_image))\n",
    "                angles.append(-center_angle)\n",
    "                \n",
    "#                 name = base_path + '/IMG/'+batch_sample[1].split('/')[-1]\n",
    "                name = batch_sample[1]\n",
    "                left_image = cv2.imread(name)\n",
    "                left_angle = center_angle + correction\n",
    "                images.append(left_image)\n",
    "                angles.append(left_angle)\n",
    "                images.append(np.fliplr(left_image))\n",
    "                angles.append(-left_angle)\n",
    "\n",
    "#                 name = base_path + '/IMG/'+batch_sample[2].split('/')[-1] \n",
    "                name = batch_sample[2]\n",
    "                right_image = cv2.imread(name)\n",
    "                right_angle = center_angle - correction\n",
    "                images.append(right_image)\n",
    "                angles.append(right_angle)\n",
    "                images.append(np.fliplr(right_image))\n",
    "                angles.append(-right_angle)\n",
    "\n",
    "            # trim image to only see section with road\n",
    "            X_train = np.array(images)\n",
    "            y_train = np.array(angles)\n",
    "            yield sklearn.utils.shuffle(X_train, y_train)\n",
    "\n",
    "# compile and train the model using the generator function\n",
    "train_generator = generator(train_samples, batch_size=32)\n",
    "validation_generator = generator(validation_samples, batch_size=32)"
   ]
  },
  {
   "cell_type": "code",
   "execution_count": 119,
   "metadata": {},
   "outputs": [],
   "source": [
    "input_shape=(160,320,3)\n",
    "\n",
    "model = Sequential()\n",
    "model.add(Cropping2D(cropping=((70,25), (0,0)), input_shape=input_shape))\n",
    "model.add(Lambda(lambda x: (x / 255.0) - 0.5))\n",
    "model.add(Convolution2D(24, 5, 5, subsample=(2,2), activation='relu'))\n",
    "model.add(Convolution2D(36, 5, 5, subsample=(2,2), activation='relu'))\n",
    "model.add(Convolution2D(48, 5, 5, subsample=(2,2), activation='relu'))\n",
    "model.add(Convolution2D(64, 3, 3, activation='relu'))\n",
    "model.add(Convolution2D(64, 3, 3, activation='relu'))\n",
    "model.add(Flatten())\n",
    "model.add(Dense(100))\n",
    "model.add(Dense(50))\n",
    "model.add(Dense(10))\n",
    "model.add(Dense(1))"
   ]
  },
  {
   "cell_type": "code",
   "execution_count": 120,
   "metadata": {},
   "outputs": [],
   "source": [
    "model.compile(loss='mse', optimizer='adam')"
   ]
  },
  {
   "cell_type": "code",
   "execution_count": 121,
   "metadata": {},
   "outputs": [
    {
     "name": "stdout",
     "output_type": "stream",
     "text": [
      "Epoch 1/6\n",
      "3072/3212 [===========================>..] - ETA: 0s - loss: 0.0688"
     ]
    },
    {
     "name": "stderr",
     "output_type": "stream",
     "text": [
      "/home/ryan/.conda/envs/dl35/lib/python3.5/site-packages/keras/engine/training.py:1569: UserWarning: Epoch comprised more than `samples_per_epoch` samples, which might affect learning results. Set `samples_per_epoch` correctly to avoid this warning.\n",
      "  warnings.warn('Epoch comprised more than '\n"
     ]
    },
    {
     "name": "stdout",
     "output_type": "stream",
     "text": [
      "3264/3212 [==============================] - 6s - loss: 0.0688 - val_loss: 0.0593\n",
      "Epoch 2/6\n",
      "3264/3212 [==============================] - 4s - loss: 0.0520 - val_loss: 0.0435\n",
      "Epoch 3/6\n",
      "3264/3212 [==============================] - 4s - loss: 0.0424 - val_loss: 0.0425\n",
      "Epoch 4/6\n",
      "3264/3212 [==============================] - 4s - loss: 0.0392 - val_loss: 0.0438\n",
      "Epoch 5/6\n",
      "3264/3212 [==============================] - 4s - loss: 0.0389 - val_loss: 0.0404\n",
      "Epoch 6/6\n",
      "3336/3212 [===============================] - 4s - loss: 0.0342 - val_loss: 0.0390\n"
     ]
    }
   ],
   "source": [
    "model.fit_generator(train_generator, \n",
    "                    samples_per_epoch= len(train_samples), \n",
    "                    validation_data=validation_generator,\n",
    "                    nb_val_samples=len(validation_samples), \n",
    "                    nb_epoch=6)\n",
    "model.save('model.h5')"
   ]
  },
  {
   "cell_type": "code",
   "execution_count": null,
   "metadata": {},
   "outputs": [],
   "source": []
  },
  {
   "cell_type": "code",
   "execution_count": null,
   "metadata": {},
   "outputs": [],
   "source": []
  },
  {
   "cell_type": "code",
   "execution_count": null,
   "metadata": {},
   "outputs": [],
   "source": []
  },
  {
   "cell_type": "code",
   "execution_count": null,
   "metadata": {},
   "outputs": [],
   "source": []
  }
 ],
 "metadata": {
  "kernelspec": {
   "display_name": "Python 3",
   "language": "python",
   "name": "python3"
  },
  "language_info": {
   "codemirror_mode": {
    "name": "ipython",
    "version": 3
   },
   "file_extension": ".py",
   "mimetype": "text/x-python",
   "name": "python",
   "nbconvert_exporter": "python",
   "pygments_lexer": "ipython3",
   "version": "3.5.4"
  }
 },
 "nbformat": 4,
 "nbformat_minor": 2
}
