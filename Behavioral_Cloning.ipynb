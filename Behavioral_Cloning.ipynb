{
 "cells": [
  {
   "cell_type": "code",
   "execution_count": 1,
   "metadata": {},
   "outputs": [
    {
     "name": "stderr",
     "output_type": "stream",
     "text": [
      "Using TensorFlow backend.\n"
     ]
    }
   ],
   "source": [
    "import csv\n",
    "import cv2\n",
    "import numpy as np\n",
    "import os\n",
    "\n",
    "from sklearn.model_selection import train_test_split\n",
    "import sklearn\n",
    "\n",
    "from keras.models import Sequential\n",
    "from keras.layers import Dense, Flatten, Lambda, Convolution2D, Cropping2D"
   ]
  },
  {
   "cell_type": "code",
   "execution_count": 2,
   "metadata": {},
   "outputs": [],
   "source": [
    "base_path = '/hdd/datasets/udacity_sim_data/recorded_data/'"
   ]
  },
  {
   "cell_type": "code",
   "execution_count": 3,
   "metadata": {},
   "outputs": [],
   "source": [
    "samples = []\n",
    "with open(base_path + 'train/driving_log.csv') as csvfile:\n",
    "    reader = csv.reader(csvfile)\n",
    "    for line in reader:\n",
    "        samples.append(line)\n",
    "with open(base_path + 'recovery/driving_log.csv') as csvfile:\n",
    "    reader = csv.reader(csvfile)\n",
    "    for line in reader:\n",
    "        samples.append(line)"
   ]
  },
  {
   "cell_type": "code",
   "execution_count": 4,
   "metadata": {},
   "outputs": [],
   "source": [
    "train_samples, validation_samples = train_test_split(samples, test_size=0.2)"
   ]
  },
  {
   "cell_type": "code",
   "execution_count": 5,
   "metadata": {},
   "outputs": [],
   "source": [
    "c_factor = 0.3\n",
    "\n",
    "def process_image(sample, angle, correction=0.0, flip=False):\n",
    "    img = cv2.imread(sample)\n",
    "    corrected_angle = angle + correction\n",
    "    if flip:\n",
    "        return np.fliplr(img), -corrected_angle\n",
    "    else:\n",
    "        return img, corrected_angle\n",
    "\n",
    "def generator(samples, batch_size=32):\n",
    "    num_samples = len(samples)\n",
    "    while 1: # Loop forever so the generator never terminates\n",
    "        sklearn.utils.shuffle(samples)\n",
    "        for offset in range(0, num_samples, batch_size):\n",
    "            batch_samples = samples[offset:offset+batch_size]\n",
    "\n",
    "            images = []\n",
    "            angles = []\n",
    "            for batch_sample in batch_samples:\n",
    "                angle = float(batch_sample[3])\n",
    "                \n",
    "                # center\n",
    "                processed_image, processed_angle = process_image(batch_sample[0], angle)\n",
    "                images.append(processed_image)\n",
    "                angles.append(processed_angle)\n",
    "                processed_image, processed_angle = process_image(batch_sample[0], angle, flip=True)\n",
    "                images.append(processed_image)\n",
    "                angles.append(processed_angle)\n",
    "\n",
    "                # left\n",
    "                processed_image, processed_angle = process_image(batch_sample[1], angle, correction=c_factor)\n",
    "                images.append(processed_image)\n",
    "                angles.append(processed_angle)\n",
    "                processed_image, processed_angle = process_image(batch_sample[1], angle, correction=c_factor, flip=True)\n",
    "                images.append(processed_image)\n",
    "                angles.append(processed_angle)\n",
    "\n",
    "                # right\n",
    "                processed_image, processed_angle = process_image(batch_sample[2], angle, correction=-c_factor)\n",
    "                images.append(processed_image)\n",
    "                angles.append(processed_angle)\n",
    "                processed_image, processed_angle = process_image(batch_sample[2], angle, correction=-c_factor, flip=True)\n",
    "                images.append(processed_image)\n",
    "                angles.append(processed_angle)\n",
    "\n",
    "            X_train = np.array(images)\n",
    "            y_train = np.array(angles)\n",
    "            yield sklearn.utils.shuffle(X_train, y_train)\n",
    "\n",
    "# compile and train the model using the generator function\n",
    "train_generator = generator(train_samples, batch_size=32)\n",
    "validation_generator = generator(validation_samples, batch_size=32)"
   ]
  },
  {
   "cell_type": "code",
   "execution_count": 6,
   "metadata": {},
   "outputs": [
    {
     "name": "stdout",
     "output_type": "stream",
     "text": [
      "WARNING:tensorflow:From /home/ryan/.conda/envs/dl35/lib/python3.5/site-packages/keras/backend/tensorflow_backend.py:1023: calling reduce_prod (from tensorflow.python.ops.math_ops) with keep_dims is deprecated and will be removed in a future version.\n",
      "Instructions for updating:\n",
      "keep_dims is deprecated, use keepdims instead\n"
     ]
    }
   ],
   "source": [
    "input_shape=(160,320,3)\n",
    "\n",
    "model = Sequential()\n",
    "model.add(Cropping2D(cropping=((70,25), (0,0)), input_shape=input_shape))\n",
    "model.add(Lambda(lambda x: (x / 255.0) - 0.5))\n",
    "model.add(Convolution2D(24, 5, 5, subsample=(2,2), activation='relu'))\n",
    "model.add(Convolution2D(36, 5, 5, subsample=(2,2), activation='relu'))\n",
    "model.add(Convolution2D(48, 5, 5, subsample=(2,2), activation='relu'))\n",
    "model.add(Convolution2D(64, 3, 3, activation='relu'))\n",
    "model.add(Convolution2D(64, 3, 3, activation='relu'))\n",
    "model.add(Flatten())\n",
    "model.add(Dense(100))\n",
    "model.add(Dense(50))\n",
    "model.add(Dense(10))\n",
    "model.add(Dense(1))"
   ]
  },
  {
   "cell_type": "code",
   "execution_count": 9,
   "metadata": {},
   "outputs": [],
   "source": [
    "model.compile(loss='mse', optimizer='adam')"
   ]
  },
  {
   "cell_type": "code",
   "execution_count": 10,
   "metadata": {},
   "outputs": [
    {
     "name": "stdout",
     "output_type": "stream",
     "text": [
      "Epoch 1/6\n",
      "3072/3212 [===========================>..] - ETA: 0s - loss: 0.0485"
     ]
    },
    {
     "name": "stderr",
     "output_type": "stream",
     "text": [
      "/home/ryan/.conda/envs/dl35/lib/python3.5/site-packages/keras/engine/training.py:1569: UserWarning: Epoch comprised more than `samples_per_epoch` samples, which might affect learning results. Set `samples_per_epoch` correctly to avoid this warning.\n",
      "  warnings.warn('Epoch comprised more than '\n"
     ]
    },
    {
     "name": "stdout",
     "output_type": "stream",
     "text": [
      "3264/3212 [==============================] - 6s - loss: 0.0487 - val_loss: 0.0456\n",
      "Epoch 2/6\n",
      "3264/3212 [==============================] - 5s - loss: 0.0386 - val_loss: 0.0378\n",
      "Epoch 3/6\n",
      "3264/3212 [==============================] - 5s - loss: 0.0328 - val_loss: 0.0405\n",
      "Epoch 4/6\n",
      "3264/3212 [==============================] - 5s - loss: 0.0364 - val_loss: 0.0409\n",
      "Epoch 5/6\n",
      "3264/3212 [==============================] - 5s - loss: 0.0325 - val_loss: 0.0352\n",
      "Epoch 6/6\n",
      "3336/3212 [===============================] - 5s - loss: 0.0337 - val_loss: 0.0313\n"
     ]
    }
   ],
   "source": [
    "model.fit_generator(train_generator, \n",
    "                    samples_per_epoch= len(train_samples), \n",
    "                    validation_data=validation_generator,\n",
    "                    nb_val_samples=len(validation_samples), \n",
    "                    nb_epoch=6)\n",
    "model.save('model.h5')"
   ]
  }
 ],
 "metadata": {
  "kernelspec": {
   "display_name": "Python 3",
   "language": "python",
   "name": "python3"
  },
  "language_info": {
   "codemirror_mode": {
    "name": "ipython",
    "version": 3
   },
   "file_extension": ".py",
   "mimetype": "text/x-python",
   "name": "python",
   "nbconvert_exporter": "python",
   "pygments_lexer": "ipython3",
   "version": "3.5.4"
  }
 },
 "nbformat": 4,
 "nbformat_minor": 2
}
